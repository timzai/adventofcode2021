{
 "cells": [
  {
   "cell_type": "markdown",
   "id": "4cd9338f-cd71-443c-98fe-6228b3f61339",
   "metadata": {},
   "source": [
    "https://adventofcode.com/2021/day/5\n",
    "```\n",
    "--- Day 5: Hydrothermal Venture ---\n",
    "You come across a field of hydrothermal vents on the ocean floor! These vents constantly produce large, opaque clouds, so it would be best to avoid them if possible.\n",
    "\n",
    "They tend to form in lines; the submarine helpfully produces a list of nearby lines of vents (your puzzle input) for you to review. For example:\n",
    "\n",
    "0,9 -> 5,9\n",
    "8,0 -> 0,8\n",
    "9,4 -> 3,4\n",
    "2,2 -> 2,1\n",
    "7,0 -> 7,4\n",
    "6,4 -> 2,0\n",
    "0,9 -> 2,9\n",
    "3,4 -> 1,4\n",
    "0,0 -> 8,8\n",
    "5,5 -> 8,2\n",
    "Each line of vents is given as a line segment in the format x1,y1 -> x2,y2 where x1,y1 are the coordinates of one end the line segment and x2,y2 are the coordinates of the other end. These line segments include the points at both ends. In other words:\n",
    "\n",
    "An entry like 1,1 -> 1,3 covers points 1,1, 1,2, and 1,3.\n",
    "An entry like 9,7 -> 7,7 covers points 9,7, 8,7, and 7,7.\n",
    "For now, only consider horizontal and vertical lines: lines where either x1 = x2 or y1 = y2.\n",
    "\n",
    "So, the horizontal and vertical lines from the above list would produce the following diagram:\n",
    "\n",
    ".......1..\n",
    "..1....1..\n",
    "..1....1..\n",
    ".......1..\n",
    ".112111211\n",
    "..........\n",
    "..........\n",
    "..........\n",
    "..........\n",
    "222111....\n",
    "In this diagram, the top left corner is 0,0 and the bottom right corner is 9,9. Each position is shown as the number of lines which cover that point or . if no line covers that point. The top-left pair of 1s, for example, comes from 2,2 -> 2,1; the very bottom row is formed by the overlapping lines 0,9 -> 5,9 and 0,9 -> 2,9.\n",
    "\n",
    "To avoid the most dangerous areas, you need to determine the number of points where at least two lines overlap. In the above example, this is anywhere in the diagram with a 2 or larger - a total of 5 points.\n",
    "\n",
    "Consider only horizontal and vertical lines. At how many points do at least two lines overlap?\n",
    "\n",
    "Your puzzle answer was 7297.\n",
    "\n",
    "--- Part Two ---\n",
    "Unfortunately, considering only horizontal and vertical lines doesn't give you the full picture; you need to also consider diagonal lines.\n",
    "\n",
    "Because of the limits of the hydrothermal vent mapping system, the lines in your list will only ever be horizontal, vertical, or a diagonal line at exactly 45 degrees. In other words:\n",
    "\n",
    "An entry like 1,1 -> 3,3 covers points 1,1, 2,2, and 3,3.\n",
    "An entry like 9,7 -> 7,9 covers points 9,7, 8,8, and 7,9.\n",
    "Considering all lines from the above example would now produce the following diagram:\n",
    "\n",
    "1.1....11.\n",
    ".111...2..\n",
    "..2.1.111.\n",
    "...1.2.2..\n",
    ".112313211\n",
    "...1.2....\n",
    "..1...1...\n",
    ".1.....1..\n",
    "1.......1.\n",
    "222111....\n",
    "You still need to determine the number of points where at least two lines overlap. In the above example, this is still anywhere in the diagram with a 2 or larger - now a total of 12 points.\n",
    "\n",
    "Consider all of the lines. At how many points do at least two lines overlap?\n",
    "\n",
    "Your puzzle answer was 21038.\n",
    "\n",
    "```"
   ]
  },
  {
   "cell_type": "code",
   "execution_count": 1,
   "id": "75d91ada-066b-4ab3-879c-b4dc87d8f5f3",
   "metadata": {},
   "outputs": [
    {
     "name": "stdout",
     "output_type": "stream",
     "text": [
      "7297\n"
     ]
    }
   ],
   "source": [
    "import numpy as np\n",
    "import pandas as pd\n",
    "\n",
    "with open(\"data/05.txt\") as f:\n",
    "    data = f.read().split(\"\\n\")\n",
    "\n",
    "m = np.zeros((1000,1000))\n",
    "    \n",
    "data = [[[int(b) for b in a.split(\",\")] for a in d.split(\" -> \")] for d in data]\n",
    "for sta,sto in data:\n",
    "    if (sta[0] == sto[0]) or (sta[1] == sto[1]):\n",
    "        m[min(sta[0],sto[0]):max(sta[0],sto[0])+1, min(sta[1],sto[1]):max(sta[1],sto[1])+1] += 1\n",
    "print(np.count_nonzero(m >= 2))"
   ]
  },
  {
   "cell_type": "code",
   "execution_count": 2,
   "id": "338787ce-7a19-46cd-884f-8cdc2d36bcc2",
   "metadata": {},
   "outputs": [
    {
     "name": "stdout",
     "output_type": "stream",
     "text": [
      "21038\n"
     ]
    }
   ],
   "source": [
    "with open(\"data/05.txt\") as f:\n",
    "    data = f.read().split(\"\\n\")\n",
    "\n",
    "m = np.zeros((1000,1000))\n",
    "    \n",
    "data = [[[int(b) for b in a.split(\",\")] for a in d.split(\" -> \")] for d in data]\n",
    "for sta,sto in data:\n",
    "    if (sta[0] == sto[0]) or (sta[1] == sto[1]):\n",
    "        m[min(sta[0],sto[0]):max(sta[0],sto[0])+1, min(sta[1],sto[1]):max(sta[1],sto[1])+1] += 1\n",
    "    else:\n",
    "        #diag\n",
    "        size = abs(sta[0]-sto[0])+1\n",
    "        n = np.zeros((size,size))\n",
    "        if sta[0]-sto[0] == sta[1]-sto[1]:\n",
    "            np.fill_diagonal(n, 1)\n",
    "        else:\n",
    "            np.fill_diagonal(np.fliplr(n), 1)\n",
    "        m[min(sta[0],sto[0]):max(sta[0],sto[0])+1, min(sta[1],sto[1]):max(sta[1],sto[1])+1] += n\n",
    "print(np.count_nonzero(m >= 2))"
   ]
  }
 ],
 "metadata": {
  "kernelspec": {
   "display_name": "Python 3 (ipykernel)",
   "language": "python",
   "name": "python3"
  },
  "language_info": {
   "codemirror_mode": {
    "name": "ipython",
    "version": 3
   },
   "file_extension": ".py",
   "mimetype": "text/x-python",
   "name": "python",
   "nbconvert_exporter": "python",
   "pygments_lexer": "ipython3",
   "version": "3.8.12"
  }
 },
 "nbformat": 4,
 "nbformat_minor": 5
}
