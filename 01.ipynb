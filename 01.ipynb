{
 "cells": [
  {
   "cell_type": "code",
   "execution_count": 7,
   "id": "100b3fdb-72fc-4671-823e-123f12c5aa4b",
   "metadata": {},
   "outputs": [
    {
     "name": "stdout",
     "output_type": "stream",
     "text": [
      "Part 1: 1477\n",
      "Part 1: 1523\n"
     ]
    }
   ],
   "source": [
    "import numpy as np\n",
    "\n",
    "with open(\"data/01.txt\") as f:\n",
    "    data = [int(x.rstrip()) for x in f.readlines()]\n",
    "    \n",
    "d = np.array(data)\n",
    "print(f\"Part 1: {np.count_nonzero((d[1:] - d[:-1]) > 0)}\")\n",
    "\n",
    "d2 = np.convolve(data,np.ones(3,dtype=int),'valid')\n",
    "print(f\"Part 2: {np.count_nonzero((d2[1:] - d2[:-1]) > 0)}\")"
   ]
  }
 ],
 "metadata": {
  "kernelspec": {
   "display_name": "Python 3 (ipykernel)",
   "language": "python",
   "name": "python3"
  },
  "language_info": {
   "codemirror_mode": {
    "name": "ipython",
    "version": 3
   },
   "file_extension": ".py",
   "mimetype": "text/x-python",
   "name": "python",
   "nbconvert_exporter": "python",
   "pygments_lexer": "ipython3",
   "version": "3.8.12"
  }
 },
 "nbformat": 4,
 "nbformat_minor": 5
}
